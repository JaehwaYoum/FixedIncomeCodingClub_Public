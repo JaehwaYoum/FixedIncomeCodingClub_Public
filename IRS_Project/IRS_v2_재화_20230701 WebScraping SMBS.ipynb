{
 "cells": [
  {
   "cell_type": "markdown",
   "id": "aab5d3d3",
   "metadata": {},
   "source": [
    "## 0. Setting Inputs\n"
   ]
  },
  {
   "cell_type": "code",
   "execution_count": 1,
   "id": "3cc1236c",
   "metadata": {},
   "outputs": [],
   "source": [
    "target_date = \"20230609\"\n",
    "cd_rate = 3.75"
   ]
  },
  {
   "cell_type": "markdown",
   "id": "ab064367",
   "metadata": {},
   "source": [
    "## 1. Scrape IRS data\n",
    "\n",
    "건순 코드 참조, Jupyter Notebook에서 돌아가게끔 일부 수정"
   ]
  },
  {
   "cell_type": "code",
   "execution_count": 2,
   "id": "fb2b47d2",
   "metadata": {
    "scrolled": true
   },
   "outputs": [],
   "source": [
    "import asyncio\n",
    "from pyppeteer import launch\n",
    "from bs4 import BeautifulSoup\n",
    "\n",
    "from collections import OrderedDict\n",
    "from pprint import pprint\n",
    "import pandas as pd\n",
    "\n",
    "# avoid jupyter notebook error\n",
    "import nest_asyncio\n",
    "nest_asyncio.apply()"
   ]
  },
  {
   "cell_type": "code",
   "execution_count": 3,
   "id": "ac06cd03",
   "metadata": {},
   "outputs": [],
   "source": [
    "# IRS table getter, returns df\n",
    "def _get_IRS_table(irs_table) -> pd.DataFrame:\n",
    "\n",
    "    data_list = list()\n",
    "    \n",
    "    for tr in irs_table.find_all(\"tr\"):\n",
    "        # get all table rows and initialize an ordered dict to ensure sequence\n",
    "        data = OrderedDict()\n",
    "\n",
    "        for th, td in zip(irs_table.select('th'), tr.select(\"td\")):\n",
    "            # match each tr data with column heads\n",
    "            data[th.text.strip()] = td.text.strip()\n",
    "            \n",
    "        data_list.append(data) # moved out of the loop for incremental indexing\n",
    "\n",
    "    # Set as df and drop duplicate rows\n",
    "    df = pd.DataFrame(data_list)\n",
    "    df = df.drop_duplicates()\n",
    "    #pprint(df)\n",
    "    \n",
    "    return df"
   ]
  },
  {
   "cell_type": "code",
   "execution_count": 4,
   "id": "455926cc",
   "metadata": {},
   "outputs": [],
   "source": [
    "async def main():\n",
    "    browser = await launch(headless=True, autoClose=False) # headless=False : 창 안 뜸\n",
    "    page = await browser.newPage()\n",
    "    await page.goto('http://www.smbs.biz/Exchange/IRS.jsp')\n",
    "\n",
    "    await page.waitFor(2000)\n",
    "\n",
    "    await page.evaluate(f\"\"\"() => {{\n",
    "        document.getElementById('searchDate').value = '';\n",
    "    }}\"\"\")\n",
    "\n",
    "    elements = await page.xpath(\"//input[contains(@id, 'searchDate')]\")\n",
    "    await elements[0].click()\n",
    "\n",
    "    await page.waitFor(1000)\n",
    "    await page.type(\"#searchDate\", target_date) \n",
    "\n",
    "    await page.waitFor(1000)\n",
    "    elements = await page.xpath(\"//img[contains(@alt, '조회하기')]\")\n",
    "    await elements[0].click()\n",
    "    \n",
    "    # Wait for the browser to navigate\n",
    "    await page.waitForNavigation()\n",
    "    \n",
    "    html = await page.content()\n",
    "    #await browser.close()\n",
    "    \n",
    "    return html"
   ]
  },
  {
   "cell_type": "code",
   "execution_count": 5,
   "id": "ca140d13",
   "metadata": {},
   "outputs": [
    {
     "name": "stdout",
     "output_type": "stream",
     "text": [
      "date = 2023.06.09\n",
      "     기일물 Receive     Mid     Pay\n",
      "0     6M  3.7925  3.7875  3.7825\n",
      "1     9M  3.7900  3.7850  3.7800\n",
      "2     1Y  3.7450  3.7400  3.7350\n",
      "3   1.5Y  3.6575  3.6525  3.6475\n",
      "4     2Y  3.5650  3.5600  3.5550\n",
      "5     3Y  3.4525  3.4475  3.4425\n",
      "6     4Y  3.3925  3.3875  3.3825\n",
      "7     5Y  3.3525  3.3475  3.3425\n",
      "8     6Y  3.3400  3.3350  3.3300\n",
      "9     7Y  3.3275  3.3225  3.3175\n",
      "10    8Y  3.3275  3.3225  3.3175\n",
      "11    9Y  3.3250  3.3200  3.3150\n",
      "12   10Y  3.3275  3.3225  3.3175\n",
      "13   12Y  3.3400  3.3350  3.3300\n",
      "14   15Y  3.3325  3.3275  3.3225\n",
      "15   20Y  3.2925  3.2875  3.2825\n"
     ]
    }
   ],
   "source": [
    "html_response = asyncio.run(main())\n",
    "\n",
    "# Parse HTML Response with BeautifulSoup\n",
    "soup = BeautifulSoup(html_response, \"html.parser\")\n",
    "\n",
    "# Isolate IRS table from other data\n",
    "irs_table = soup.find_all(\"div\", attrs={\"class\" : \"table_type2\"})[0]\n",
    "\n",
    "# Retrieve date data\n",
    "search_date = soup.find(\"input\", attrs={\"name\" : \"StrSchFull3\"})\n",
    "print(f\"date = {search_date.get('value')}\")\n",
    "\n",
    "df = _get_IRS_table(irs_table)\n",
    "df = df.iloc[1:].reset_index(drop=True) # drop first row (null)\n",
    "\n",
    "pprint(df)"
   ]
  },
  {
   "cell_type": "markdown",
   "id": "f03cd5d7",
   "metadata": {},
   "source": [
    "## 2. Forward Rate Table\n",
    "\n",
    "1. IRS 'spot' 데이터 추출\n",
    "2. Linear interpolation을 통해 3개월 단위 spot 계산\n",
    "3. tenor별 discount factor / zero rate / implied forward rate 도출"
   ]
  },
  {
   "cell_type": "code",
   "execution_count": 6,
   "id": "bda781a9",
   "metadata": {},
   "outputs": [],
   "source": [
    "import pandas as pd\n",
    "from pandas import to_datetime\n",
    "import numpy as np\n",
    "import math\n",
    "import seaborn as sns\n",
    "import matplotlib.pyplot as plt"
   ]
  },
  {
   "cell_type": "code",
   "execution_count": 7,
   "id": "c43bc152",
   "metadata": {
    "scrolled": true
   },
   "outputs": [
    {
     "name": "stdout",
     "output_type": "stream",
     "text": [
      "2023-06-09 00:00:00\n"
     ]
    }
   ],
   "source": [
    "# convert the search date to pandas dataframe\n",
    "search_date = to_datetime(search_date.get('value'),format=\"%Y.%m.%d\")\n",
    "print(search_date)"
   ]
  },
  {
   "cell_type": "code",
   "execution_count": 8,
   "id": "69b2edfe",
   "metadata": {},
   "outputs": [
    {
     "name": "stdout",
     "output_type": "stream",
     "text": [
      "     기일물 Receive     Mid     Pay  tenor\n",
      "0     6M  3.7925  3.7875  3.7825   0.50\n",
      "1     9M    3.79   3.785    3.78   0.75\n",
      "2     1Y   3.745    3.74   3.735   1.00\n",
      "3   1.5Y  3.6575  3.6525  3.6475   1.50\n",
      "4     2Y   3.565    3.56   3.555   2.00\n",
      "5     3Y  3.4525  3.4475  3.4425   3.00\n",
      "6     4Y  3.3925  3.3875  3.3825   4.00\n",
      "7     5Y  3.3525  3.3475  3.3425   5.00\n",
      "8     6Y    3.34   3.335    3.33   6.00\n",
      "9     7Y  3.3275  3.3225  3.3175   7.00\n",
      "10    8Y  3.3275  3.3225  3.3175   8.00\n",
      "11    9Y   3.325    3.32   3.315   9.00\n",
      "12   10Y  3.3275  3.3225  3.3175  10.00\n",
      "13   12Y    3.34   3.335    3.33  12.00\n",
      "14   15Y  3.3325  3.3275  3.3225  15.00\n",
      "15   20Y  3.2925  3.2875  3.2825  20.00\n"
     ]
    }
   ],
   "source": [
    "# Convert columns to float data type\n",
    "df.iloc[:, 1:4] = df.iloc[:, 1:4].astype(float)\n",
    "\n",
    "# Adjust the string tenors to float values\n",
    "def convert_tenor(tenor):\n",
    "    if tenor == '6M':\n",
    "        return 0.5\n",
    "    elif tenor == '9M':\n",
    "        return 0.75\n",
    "    else:\n",
    "        return float(tenor[:-1])\n",
    "\n",
    "df['tenor'] = df['기일물'].apply(convert_tenor)\n",
    "print(df)"
   ]
  },
  {
   "cell_type": "code",
   "execution_count": 9,
   "id": "8f7aa1cf",
   "metadata": {
    "scrolled": true
   },
   "outputs": [
    {
     "data": {
      "text/html": [
       "<div>\n",
       "<style scoped>\n",
       "    .dataframe tbody tr th:only-of-type {\n",
       "        vertical-align: middle;\n",
       "    }\n",
       "\n",
       "    .dataframe tbody tr th {\n",
       "        vertical-align: top;\n",
       "    }\n",
       "\n",
       "    .dataframe thead th {\n",
       "        text-align: right;\n",
       "    }\n",
       "</style>\n",
       "<table border=\"1\" class=\"dataframe\">\n",
       "  <thead>\n",
       "    <tr style=\"text-align: right;\">\n",
       "      <th></th>\n",
       "      <th>spot</th>\n",
       "    </tr>\n",
       "    <tr>\n",
       "      <th>tenor</th>\n",
       "      <th></th>\n",
       "    </tr>\n",
       "  </thead>\n",
       "  <tbody>\n",
       "    <tr>\n",
       "      <th>0.25</th>\n",
       "      <td>0.037500</td>\n",
       "    </tr>\n",
       "    <tr>\n",
       "      <th>0.50</th>\n",
       "      <td>0.037875</td>\n",
       "    </tr>\n",
       "    <tr>\n",
       "      <th>0.75</th>\n",
       "      <td>0.037850</td>\n",
       "    </tr>\n",
       "    <tr>\n",
       "      <th>1.00</th>\n",
       "      <td>0.037400</td>\n",
       "    </tr>\n",
       "    <tr>\n",
       "      <th>1.25</th>\n",
       "      <td>0.036963</td>\n",
       "    </tr>\n",
       "    <tr>\n",
       "      <th>1.50</th>\n",
       "      <td>0.036525</td>\n",
       "    </tr>\n",
       "    <tr>\n",
       "      <th>1.75</th>\n",
       "      <td>0.036063</td>\n",
       "    </tr>\n",
       "    <tr>\n",
       "      <th>2.00</th>\n",
       "      <td>0.035600</td>\n",
       "    </tr>\n",
       "  </tbody>\n",
       "</table>\n",
       "</div>"
      ],
      "text/plain": [
       "           spot\n",
       "tenor          \n",
       "0.25   0.037500\n",
       "0.50   0.037875\n",
       "0.75   0.037850\n",
       "1.00   0.037400\n",
       "1.25   0.036963\n",
       "1.50   0.036525\n",
       "1.75   0.036063\n",
       "2.00   0.035600"
      ]
     },
     "execution_count": 9,
     "metadata": {},
     "output_type": "execute_result"
    }
   ],
   "source": [
    "# Create a new DataFrame with desired index\n",
    "new_df = pd.DataFrame(index=np.arange(0.25, 2.25, 0.25))\n",
    "new_df = new_df.merge(df[['tenor', 'Mid']], how='left', left_index=True, right_on='tenor')\n",
    "new_df.set_index('tenor', inplace=True)\n",
    "new_df.columns = ['spot']\n",
    "\n",
    "# Fill in empty spots \n",
    "new_df['spot'].fillna(cd_rate, limit=1, inplace=True)\n",
    "new_df['spot'] = new_df['spot'].interpolate(method='linear')\n",
    "new_df['spot'] = new_df['spot']/100\n",
    "\n",
    "# Display the resulting DataFrame\n",
    "new_df"
   ]
  },
  {
   "cell_type": "code",
   "execution_count": 10,
   "id": "c7c53ae2",
   "metadata": {},
   "outputs": [
    {
     "data": {
      "text/html": [
       "<div>\n",
       "<style scoped>\n",
       "    .dataframe tbody tr th:only-of-type {\n",
       "        vertical-align: middle;\n",
       "    }\n",
       "\n",
       "    .dataframe tbody tr th {\n",
       "        vertical-align: top;\n",
       "    }\n",
       "\n",
       "    .dataframe thead th {\n",
       "        text-align: right;\n",
       "    }\n",
       "</style>\n",
       "<table border=\"1\" class=\"dataframe\">\n",
       "  <thead>\n",
       "    <tr style=\"text-align: right;\">\n",
       "      <th></th>\n",
       "      <th>spot</th>\n",
       "      <th>DF</th>\n",
       "      <th>zero rate</th>\n",
       "      <th>implied forward</th>\n",
       "    </tr>\n",
       "    <tr>\n",
       "      <th>tenor</th>\n",
       "      <th></th>\n",
       "      <th></th>\n",
       "      <th></th>\n",
       "      <th></th>\n",
       "    </tr>\n",
       "  </thead>\n",
       "  <tbody>\n",
       "    <tr>\n",
       "      <th>0.25</th>\n",
       "      <td>0.037500</td>\n",
       "      <td>0.990839</td>\n",
       "      <td>0.036814</td>\n",
       "      <td>0.037500</td>\n",
       "    </tr>\n",
       "    <tr>\n",
       "      <th>0.50</th>\n",
       "      <td>0.037875</td>\n",
       "      <td>0.981584</td>\n",
       "      <td>0.037175</td>\n",
       "      <td>0.037713</td>\n",
       "    </tr>\n",
       "    <tr>\n",
       "      <th>0.75</th>\n",
       "      <td>0.037850</td>\n",
       "      <td>0.972521</td>\n",
       "      <td>0.037151</td>\n",
       "      <td>0.037276</td>\n",
       "    </tr>\n",
       "    <tr>\n",
       "      <th>1.00</th>\n",
       "      <td>0.037400</td>\n",
       "      <td>0.963948</td>\n",
       "      <td>0.036718</td>\n",
       "      <td>0.035574</td>\n",
       "    </tr>\n",
       "    <tr>\n",
       "      <th>1.25</th>\n",
       "      <td>0.036963</td>\n",
       "      <td>0.955644</td>\n",
       "      <td>0.036296</td>\n",
       "      <td>0.034759</td>\n",
       "    </tr>\n",
       "    <tr>\n",
       "      <th>1.50</th>\n",
       "      <td>0.036525</td>\n",
       "      <td>0.947612</td>\n",
       "      <td>0.035874</td>\n",
       "      <td>0.033907</td>\n",
       "    </tr>\n",
       "    <tr>\n",
       "      <th>1.75</th>\n",
       "      <td>0.036063</td>\n",
       "      <td>0.939885</td>\n",
       "      <td>0.035427</td>\n",
       "      <td>0.032884</td>\n",
       "    </tr>\n",
       "    <tr>\n",
       "      <th>2.00</th>\n",
       "      <td>0.035600</td>\n",
       "      <td>0.932429</td>\n",
       "      <td>0.034981</td>\n",
       "      <td>0.031983</td>\n",
       "    </tr>\n",
       "  </tbody>\n",
       "</table>\n",
       "</div>"
      ],
      "text/plain": [
       "           spot        DF  zero rate  implied forward\n",
       "tenor                                                \n",
       "0.25   0.037500  0.990839   0.036814         0.037500\n",
       "0.50   0.037875  0.981584   0.037175         0.037713\n",
       "0.75   0.037850  0.972521   0.037151         0.037276\n",
       "1.00   0.037400  0.963948   0.036718         0.035574\n",
       "1.25   0.036963  0.955644   0.036296         0.034759\n",
       "1.50   0.036525  0.947612   0.035874         0.033907\n",
       "1.75   0.036063  0.939885   0.035427         0.032884\n",
       "2.00   0.035600  0.932429   0.034981         0.031983"
      ]
     },
     "execution_count": 10,
     "metadata": {},
     "output_type": "execute_result"
    }
   ],
   "source": [
    "# Calculate DF, zero rate, implied forward rate\n",
    "new_df.index = new_df.index.astype(float)\n",
    "new_df['DF'] = 1 / (1 + new_df['spot']) ** new_df.index\n",
    "new_df['zero rate'] = np.log(1 / new_df['DF']) * (1 /new_df.index)\n",
    "\n",
    "new_df['implied forward'] = (new_df['DF'].shift(1) / new_df['DF'] - 1) * (1 / 0.25)\n",
    "new_df['implied forward'].fillna(cd_rate/100, limit=1, inplace=True)\n",
    "\n",
    "# Display the resulting DataFrame\n",
    "new_df"
   ]
  },
  {
   "cell_type": "code",
   "execution_count": 11,
   "id": "313c6141",
   "metadata": {},
   "outputs": [
    {
     "data": {
      "image/png": "[encoded data removed]",
      "text/plain": [
       "<Figure size 640x480 with 1 Axes>"
      ]
     },
     "metadata": {},
     "output_type": "display_data"
    }
   ],
   "source": [
    "# Visualize using Seaborn\n",
    "fig, ax = plt.subplots()\n",
    "\n",
    "# Draw line charts for spot, zero rate, and implied forward\n",
    "sns.lineplot(data=new_df['spot'], ax=ax, marker='o', label='Spot')\n",
    "sns.lineplot(data=new_df['zero rate'], ax=ax, marker='D', label='Zero Rate')\n",
    "sns.lineplot(data=new_df['implied forward'], ax=ax, marker='s', label='Implied Forward')\n",
    "\n",
    "# Set the axis lables\n",
    "ax.set_xlabel('Tenor')\n",
    "ax.set_ylabel('Value')\n",
    "\n",
    "# Add a legend\n",
    "ax.legend()\n",
    "\n",
    "# Show the plot\n",
    "plt.show()"
   ]
  }
 ],
 "metadata": {
  "kernelspec": {
   "display_name": "Python 3 (ipykernel)",
   "language": "python",
   "name": "python3"
  },
  "language_info": {
   "codemirror_mode": {
    "name": "ipython",
    "version": 3
   },
   "file_extension": ".py",
   "mimetype": "text/x-python",
   "name": "python",
   "nbconvert_exporter": "python",
   "pygments_lexer": "ipython3",
   "version": "3.9.13"
  }
 },
 "nbformat": 4,
 "nbformat_minor": 5
}
