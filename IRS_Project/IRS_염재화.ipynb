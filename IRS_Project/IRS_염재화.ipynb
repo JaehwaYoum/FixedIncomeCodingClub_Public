{
 "cells": [
  {
   "cell_type": "markdown",
   "id": "aab5d3d3",
   "metadata": {},
   "source": [
    "## 0. Setting Inputs\n"
   ]
  },
  {
   "cell_type": "code",
   "execution_count": 1,
   "id": "3cc1236c",
   "metadata": {},
   "outputs": [],
   "source": [
    "target_date = \"20230623\"\n",
    "base_rate = 3.50 # BOK base rate on target_date\n",
    "cd_rate = 3.75 # 91-day CD rate on target_date\n",
    "rate_change_expectation = 0.25  # To calculate the amount of 'reflection' in the market"
   ]
  },
  {
   "cell_type": "markdown",
   "id": "ab064367",
   "metadata": {},
   "source": [
    "## 1. Scrape IRS data\n"
   ]
  },
  {
   "cell_type": "code",
   "execution_count": 2,
   "id": "fb2b47d2",
   "metadata": {
    "scrolled": true
   },
   "outputs": [],
   "source": [
    "import asyncio\n",
    "from pyppeteer import launch\n",
    "from bs4 import BeautifulSoup\n",
    "\n",
    "from pprint import pprint\n",
    "import pandas as pd\n",
    "\n",
    "import nest_asyncio # to avoid jupyter notebook error\n",
    "nest_asyncio.apply()"
   ]
  },
  {
   "cell_type": "code",
   "execution_count": 3,
   "id": "ac06cd03",
   "metadata": {},
   "outputs": [],
   "source": [
    "# IRS table getter, returns df\n",
    "def _get_IRS_table(irs_table) -> pd.DataFrame:\n",
    "    \"\"\"\n",
    "    Extracts data from an IRS table and returns it as a DataFrame.\n",
    "    \n",
    "    Args:\n",
    "        irs_table: BeautifulSoup object representing the IRS table.\n",
    "        \n",
    "    Returns:\n",
    "        DataFrame containing the extracted data from the IRS table.\n",
    "    \"\"\"\n",
    "    \n",
    "    data_list = list()\n",
    "    \n",
    "    for tr in irs_table.find_all(\"tr\"):\n",
    "        # get all table rows and initialize a dictionary\n",
    "        data = {}\n",
    "\n",
    "        for th, td in zip(irs_table.select('th'), tr.select(\"td\")):\n",
    "            # match each tr data with column heads\n",
    "            data[th.text.strip()] = td.text.strip()\n",
    "        \n",
    "        data_list.append(data) # moved out of the loop for incremental indexing\n",
    "\n",
    "    # Set as df and drop duplicate rows\n",
    "    df = pd.DataFrame(data_list)\n",
    "    df = df.drop_duplicates()\n",
    "    \n",
    "    return df"
   ]
  },
  {
   "cell_type": "code",
   "execution_count": 4,
   "id": "455926cc",
   "metadata": {
    "scrolled": true
   },
   "outputs": [],
   "source": [
    "async def main(target_date):\n",
    "    \"\"\"\n",
    "    Main function to crawl the IRS data for a given target date from SMBS website.\n",
    "    \n",
    "    Args:\n",
    "        target_date: The target date in the format 'YYYYMMDD'.\n",
    "        \n",
    "    Returns:\n",
    "        The HTML content of the crawled data.\n",
    "    \"\"\"\n",
    "    \n",
    "    browser = await launch(headless=True, autoClose=False)\n",
    "    page = await browser.newPage()\n",
    "    await page.goto('http://www.smbs.biz/Exchange/IRS.jsp')\n",
    "\n",
    "    await page.waitFor(2000)\n",
    "\n",
    "    await page.evaluate(f\"\"\"() => {{\n",
    "        document.getElementById('searchDate').value = '';\n",
    "    }}\"\"\")\n",
    "\n",
    "    elements = await page.xpath(\"//input[contains(@id, 'searchDate')]\")\n",
    "    await elements[0].click()\n",
    "\n",
    "    await page.waitFor(1000)\n",
    "    await page.type(\"#searchDate\", target_date) \n",
    "\n",
    "    await page.waitFor(1000)\n",
    "    elements = await page.xpath(\"//img[contains(@alt, '조회하기')]\")\n",
    "    await elements[0].click()\n",
    "    \n",
    "    # Wait for the browser to navigate\n",
    "    await page.waitForNavigation()\n",
    "    \n",
    "    html = await page.content()\n",
    "    await browser.close()\n",
    "    \n",
    "    return html"
   ]
  },
  {
   "cell_type": "code",
   "execution_count": 5,
   "id": "0d0f7f4b",
   "metadata": {},
   "outputs": [],
   "source": [
    "async def _crawl_IRS_tables(target_dates):\n",
    "    \"\"\"\n",
    "    Crawls IRS tables for a list of target dates and returns a list of dataframes.\n",
    "    \n",
    "    Args:\n",
    "        target_dates: A list of target dates in the format 'YYYYMMDD'.\n",
    "        \n",
    "    Returns:\n",
    "        A list of dataframes containing the crawled IRS data for each target date.\n",
    "    \"\"\"\n",
    "    \n",
    "    html_responses = []\n",
    "\n",
    "    for target_date in target_dates:\n",
    "        html_response = await main(target_date)\n",
    "        html_responses.append(html_response)\n",
    "\n",
    "    data_list = []\n",
    "\n",
    "    for html_response, target_date in zip(html_responses, target_dates):\n",
    "        soup = BeautifulSoup(html_response, \"html.parser\")\n",
    "\n",
    "        # Isolate IRS table from other data\n",
    "        irs_table = soup.find_all(\"div\", attrs={\"class\" : \"table_type2\"})[0]\n",
    "\n",
    "        # Retrieve date data\n",
    "        search_date = soup.find(\"input\", attrs={\"name\" : \"StrSchFull3\"})\n",
    "        date = search_date.get(\"value\")\n",
    "\n",
    "        df = _get_IRS_table(irs_table)\n",
    "        df = df.iloc[1:].reset_index(drop=True)  # drop first row (null)\n",
    "\n",
    "        data_list.append(df)\n",
    "\n",
    "    return data_list"
   ]
  },
  {
   "cell_type": "code",
   "execution_count": 6,
   "id": "a4e4a1eb",
   "metadata": {},
   "outputs": [
    {
     "name": "stdout",
     "output_type": "stream",
     "text": [
      "[     기일물 Receive     Mid     Pay\n",
      "0     6M  3.8100  3.8050  3.8000\n",
      "1     9M  3.8225  3.8175  3.8125\n",
      "2     1Y  3.8100  3.8050  3.8000\n",
      "3   1.5Y  3.7525  3.7475  3.7425\n",
      "4     2Y  3.6850  3.6800  3.6750\n",
      "5     3Y  3.5800  3.5750  3.5700\n",
      "6     4Y  3.5125  3.5075  3.5025\n",
      "7     5Y  3.4650  3.4600  3.4550\n",
      "8     6Y  3.4350  3.4300  3.4250\n",
      "9     7Y  3.4100  3.4050  3.4000\n",
      "10    8Y  3.4000  3.3950  3.3900\n",
      "11    9Y  3.3950  3.3900  3.3850\n",
      "12   10Y  3.3900  3.3850  3.3800\n",
      "13   12Y  3.3975  3.3925  3.3875\n",
      "14   15Y  3.3925  3.3875  3.3825\n",
      "15   20Y  3.3375  3.3325  3.3275]\n"
     ]
    }
   ],
   "source": [
    "# Run for 1 target date \n",
    "target_dates =[target_date]\n",
    "result = asyncio.run(_crawl_IRS_tables(target_dates))\n",
    "print(result)"
   ]
  },
  {
   "cell_type": "markdown",
   "id": "f03cd5d7",
   "metadata": {},
   "source": [
    "## 2. Forward rate & market reflection table\n",
    "\n",
    "1. IRS 'Mid' 데이터 추출\n",
    "2. Linear interpolation을 통해 3개월 단위 swap rate 계산\n",
    "3. tenor별 discount factor / zero rate / implied forward rate 도출"
   ]
  },
  {
   "cell_type": "code",
   "execution_count": 7,
   "id": "bda781a9",
   "metadata": {},
   "outputs": [],
   "source": [
    "import numpy as np\n",
    "import math\n",
    "import seaborn as sns\n",
    "import matplotlib.pyplot as plt\n",
    "import matplotlib.ticker as mtick"
   ]
  },
  {
   "cell_type": "code",
   "execution_count": 8,
   "id": "69b2edfe",
   "metadata": {},
   "outputs": [],
   "source": [
    "def _convert_crawled_to_df(df, cd_rate):\n",
    "    \"\"\"\n",
    "    Converts the crawled data DataFrame to the desired format.\n",
    "    1) Set 'tenor' column in year terms. (ex. 6M = 0.5)\n",
    "    2) Set 'tenor' as index, coverted to float type.\n",
    "    3) Fill in empty spots using current cd_rate and linear interpolation.\n",
    "\n",
    "    Args:\n",
    "        df: DataFrame containing the crawled data.\n",
    "        cd_rate: Constant rate for filling empty spots.\n",
    "\n",
    "    Returns:\n",
    "        A new DataFrame with the converted data.\n",
    "    \"\"\"\n",
    "        \n",
    "    # Convert columns to float data type\n",
    "    df.iloc[:, 1:4] = df.iloc[:, 1:4].astype(float)\n",
    "\n",
    "    # Adjust the string tenors to float values\n",
    "    def convert_tenor(tenor):\n",
    "        if tenor == '6M':\n",
    "            return 0.5\n",
    "        elif tenor == '9M':\n",
    "            return 0.75\n",
    "        else:\n",
    "            return float(tenor[:-1])\n",
    "    \n",
    "    df['tenor'] = df['기일물'].apply(convert_tenor)\n",
    "\n",
    "    # Create a new DataFrame with desired index\n",
    "    new_df = pd.DataFrame(index=np.arange(0.25, 2.25, 0.25))\n",
    "    new_df = new_df.merge(df[['tenor', 'Mid']], how='left', left_index=True, right_on='tenor')\n",
    "    new_df.set_index('tenor', inplace=True)\n",
    "    new_df.columns = ['swap_rate']\n",
    "\n",
    "    # Convert index to float data type\n",
    "    new_df.index = new_df.index.astype(float)\n",
    "\n",
    "    # Fill in empty spots \n",
    "    new_df['swap_rate'].fillna(cd_rate, limit=1, inplace=True)\n",
    "    new_df['swap_rate'] = new_df['swap_rate'].interpolate(method='linear')\n",
    "    new_df['swap_rate'] = new_df['swap_rate']/100\n",
    "\n",
    "    return new_df"
   ]
  },
  {
   "cell_type": "code",
   "execution_count": 9,
   "id": "27e7e62b",
   "metadata": {},
   "outputs": [],
   "source": [
    "def discount_factor(swap_rate, df_list, payment_frequency=4):\n",
    "    \"\"\"\n",
    "    Calculates the discount factor for each index 'i' in df, based on the data of indexes 1 to 'i-1'.\n",
    "    \n",
    "    Args:\n",
    "        spot: The spot rate in decimal form.\n",
    "        df_list : A list of discount factors, where df_list[i] is the discount factor for the i-th tenor.\n",
    "        payment_frequency: The frequency of payments within each year. Default is 4.(quarterly payments)\n",
    "        \n",
    "    Returns:\n",
    "        The discount factor for the given spot rate and tenor.  \n",
    "    \"\"\"\n",
    "    \n",
    "    accumulated_cash_flows = 0\n",
    "    for i in range(len(df_list)):\n",
    "        accumulated_cash_flows += (swap_rate / payment_frequency) * df_list[i-1]\n",
    "    df_t = (1 - accumulated_cash_flows) / (1 + (swap_rate / payment_frequency))\n",
    "    \n",
    "    return df_t"
   ]
  },
  {
   "cell_type": "code",
   "execution_count": 10,
   "id": "e91d4c6c",
   "metadata": {},
   "outputs": [],
   "source": [
    "def calculate_discount_factor(df):\n",
    "    \n",
    "    # Create empty column\n",
    "    df['discount_factor'] = np.nan\n",
    "\n",
    "    # Calculate discount factor\n",
    "    for index, row in df.iterrows():\n",
    "        swap_rate = row['swap_rate']\n",
    "        tenor = index\n",
    "        df_list = df[df.index < tenor]['discount_factor'].tolist()\n",
    "\n",
    "        df_t = discount_factor(swap_rate, df_list)\n",
    "        df.loc[index, 'discount_factor'] = df_t"
   ]
  },
  {
   "cell_type": "code",
   "execution_count": 11,
   "id": "581c14b9",
   "metadata": {},
   "outputs": [],
   "source": [
    "def calculate_zero_rate(df):\n",
    "    \n",
    "    # Create empty column\n",
    "    df['zero_rate'] = np.nan\n",
    "\n",
    "    # Calculate zero rate\n",
    "    df['zero_rate'] = -np.log(df['discount_factor']) / df.index"
   ]
  },
  {
   "cell_type": "code",
   "execution_count": 12,
   "id": "64044b2c",
   "metadata": {},
   "outputs": [],
   "source": [
    "def calculate_implied_forward(df):\n",
    "    \n",
    "    # Create empty column\n",
    "    df['implied_forward'] = np.nan\n",
    "\n",
    "    # Calculate implied forward rate\n",
    "    for i in range(len(df)-1):\n",
    "        zero_rate_current = df.at[df.index[i], 'zero_rate']\n",
    "        zero_rate_future = df.at[df.index[i+1], 'zero_rate']\n",
    "        tenor_current = df.index[i]\n",
    "        tenor_future = df.index[i+1]\n",
    "\n",
    "        implied_forward = (((1 + zero_rate_future) ** tenor_future) / \n",
    "                           ((1 + zero_rate_current) ** tenor_current)) ** (1 / (tenor_future - tenor_current)) - 1\n",
    "        df.at[df.index[i], 'implied_forward'] = implied_forward\n",
    "\n",
    "    df['implied_forward'].iloc[-1] = np.nan"
   ]
  },
  {
   "cell_type": "code",
   "execution_count": 13,
   "id": "90fcf84b",
   "metadata": {},
   "outputs": [],
   "source": [
    "def calculate_market_reflection(df, base_rate, rate_change_expectation):\n",
    "    \"\"\"\n",
    "    Calculates the market reflection for each tenor in the DataFrame.\n",
    "\n",
    "    Args:\n",
    "        df: DataFrame containing the swap rates.\n",
    "        base_rate: Base rate used in the market reflection calculation.\n",
    "        rate_change_expectation: Expected rate change used in the market reflection calculation.\n",
    "\n",
    "    Returns:\n",
    "        DataFrame: The original DataFrame with discount factors, zero rates, implied forwards, \n",
    "                and market reflection column added.\n",
    "    \"\"\"\n",
    "    \n",
    "    # Check if columns already exist\n",
    "    if 'discount_factor' not in df.columns:\n",
    "        df['discount_factor'] = np.nan\n",
    "    if 'zero_rate' not in df.columns:\n",
    "        df['zero_rate'] = np.nan\n",
    "    if 'implied_forward' not in df.columns:\n",
    "        df['implied_forward'] = np.nan\n",
    "    \n",
    "    # Calculate discount factor, zero rate, and implied forward\n",
    "    calculate_discount_factor(df)\n",
    "    calculate_zero_rate(df)\n",
    "    calculate_implied_forward(df)\n",
    "    \n",
    "    # Calculate market reflection\n",
    "    df['reflection'] = (df['implied_forward'] - (base_rate + rate_change_expectation) / 100) \\\n",
    "                           / (rate_change_expectation / 100)\n",
    "    \n",
    "    return df"
   ]
  },
  {
   "cell_type": "code",
   "execution_count": 14,
   "id": "e17c9323",
   "metadata": {
    "scrolled": false
   },
   "outputs": [
    {
     "data": {
      "text/html": [
       "<div>\n",
       "<style scoped>\n",
       "    .dataframe tbody tr th:only-of-type {\n",
       "        vertical-align: middle;\n",
       "    }\n",
       "\n",
       "    .dataframe tbody tr th {\n",
       "        vertical-align: top;\n",
       "    }\n",
       "\n",
       "    .dataframe thead th {\n",
       "        text-align: right;\n",
       "    }\n",
       "</style>\n",
       "<table border=\"1\" class=\"dataframe\">\n",
       "  <thead>\n",
       "    <tr style=\"text-align: right;\">\n",
       "      <th></th>\n",
       "      <th>swap_rate</th>\n",
       "      <th>discount_factor</th>\n",
       "      <th>zero_rate</th>\n",
       "      <th>implied_forward</th>\n",
       "      <th>reflection</th>\n",
       "    </tr>\n",
       "    <tr>\n",
       "      <th>tenor</th>\n",
       "      <th></th>\n",
       "      <th></th>\n",
       "      <th></th>\n",
       "      <th></th>\n",
       "      <th></th>\n",
       "    </tr>\n",
       "  </thead>\n",
       "  <tbody>\n",
       "    <tr>\n",
       "      <th>0.25</th>\n",
       "      <td>0.037500</td>\n",
       "      <td>0.990712</td>\n",
       "      <td>0.037325</td>\n",
       "      <td>0.038420</td>\n",
       "      <td>0.368196</td>\n",
       "    </tr>\n",
       "    <tr>\n",
       "      <th>0.50</th>\n",
       "      <td>0.038050</td>\n",
       "      <td>0.981242</td>\n",
       "      <td>0.037873</td>\n",
       "      <td>0.038245</td>\n",
       "      <td>0.298097</td>\n",
       "    </tr>\n",
       "    <tr>\n",
       "      <th>0.75</th>\n",
       "      <td>0.038175</td>\n",
       "      <td>0.971905</td>\n",
       "      <td>0.037997</td>\n",
       "      <td>0.037492</td>\n",
       "      <td>-0.003338</td>\n",
       "    </tr>\n",
       "    <tr>\n",
       "      <th>1.00</th>\n",
       "      <td>0.038050</td>\n",
       "      <td>0.962838</td>\n",
       "      <td>0.037871</td>\n",
       "      <td>0.036420</td>\n",
       "      <td>-0.432072</td>\n",
       "    </tr>\n",
       "    <tr>\n",
       "      <th>1.25</th>\n",
       "      <td>0.037763</td>\n",
       "      <td>0.954111</td>\n",
       "      <td>0.037580</td>\n",
       "      <td>0.035837</td>\n",
       "      <td>-0.665066</td>\n",
       "    </tr>\n",
       "    <tr>\n",
       "      <th>1.50</th>\n",
       "      <td>0.037475</td>\n",
       "      <td>0.945601</td>\n",
       "      <td>0.037290</td>\n",
       "      <td>0.034897</td>\n",
       "      <td>-1.041333</td>\n",
       "    </tr>\n",
       "    <tr>\n",
       "      <th>1.75</th>\n",
       "      <td>0.037138</td>\n",
       "      <td>0.937388</td>\n",
       "      <td>0.036947</td>\n",
       "      <td>0.034208</td>\n",
       "      <td>-1.316959</td>\n",
       "    </tr>\n",
       "    <tr>\n",
       "      <th>2.00</th>\n",
       "      <td>0.036800</td>\n",
       "      <td>0.929407</td>\n",
       "      <td>0.036605</td>\n",
       "      <td>NaN</td>\n",
       "      <td>NaN</td>\n",
       "    </tr>\n",
       "  </tbody>\n",
       "</table>\n",
       "</div>"
      ],
      "text/plain": [
       "       swap_rate  discount_factor  zero_rate  implied_forward  reflection\n",
       "tenor                                                                    \n",
       "0.25    0.037500         0.990712   0.037325         0.038420    0.368196\n",
       "0.50    0.038050         0.981242   0.037873         0.038245    0.298097\n",
       "0.75    0.038175         0.971905   0.037997         0.037492   -0.003338\n",
       "1.00    0.038050         0.962838   0.037871         0.036420   -0.432072\n",
       "1.25    0.037763         0.954111   0.037580         0.035837   -0.665066\n",
       "1.50    0.037475         0.945601   0.037290         0.034897   -1.041333\n",
       "1.75    0.037138         0.937388   0.036947         0.034208   -1.316959\n",
       "2.00    0.036800         0.929407   0.036605              NaN         NaN"
      ]
     },
     "execution_count": 14,
     "metadata": {},
     "output_type": "execute_result"
    }
   ],
   "source": [
    "# Calculate market reflection for each crawled data\n",
    "for i in range(len(result)):\n",
    "    new_df = _convert_crawled_to_df(result[i], cd_rate)\n",
    "    new_df = calculate_market_reflection(new_df, base_rate, rate_change_expectation)\n",
    "\n",
    "new_df"
   ]
  },
  {
   "cell_type": "markdown",
   "id": "13c009c4",
   "metadata": {},
   "source": [
    "## 3. Visualize market reflection"
   ]
  },
  {
   "cell_type": "code",
   "execution_count": 15,
   "id": "313c6141",
   "metadata": {
    "scrolled": true
   },
   "outputs": [
    {
     "data": {
      "image/png": "[encoded data removed]",
      "text/plain": [
       "<Figure size 400x300 with 2 Axes>"
      ]
     },
     "metadata": {},
     "output_type": "display_data"
    }
   ],
   "source": [
    "# Visualize using Matplotlib\n",
    "fig, ax = plt.subplots(figsize=(4, 3))\n",
    "new_df = new_df.dropna(subset=['implied_forward', 'reflection'])\n",
    "x = np.arange(0.25, 2, 0.25)\n",
    "\n",
    "# Draw line charts for swap rate, zero rate, and implied forward\n",
    "ax.plot(x, new_df['swap_rate']*100, color='black', marker='o', label='Swap Rate')\n",
    "ax.plot(x, new_df['zero_rate']*100, color='tab:gray', marker='D', label='Zero Rate')\n",
    "ax.plot(x, new_df['implied_forward']*100, color='blue', marker='s', label='Implied Forward')\n",
    "\n",
    "# Draw bar chart for reflection\n",
    "ax2 = ax.twinx()\n",
    "ax2.bar(x, new_df['reflection']*100, color='red', alpha=0.5, label='Reflection')\n",
    "\n",
    "# Set z order to put line charts in front\n",
    "ax.set_zorder(ax2.get_zorder() + 1)\n",
    "ax.patch.set_visible(False)\n",
    "\n",
    "# Set the y axes to % format \n",
    "ax.yaxis.set_major_formatter(mtick.PercentFormatter(decimals=1))\n",
    "ax2.yaxis.set_major_formatter(mtick.PercentFormatter(decimals=0))\n",
    " \n",
    "# Set axis lables\n",
    "ax.set_xlabel('Tenor')\n",
    "ax.set_ylabel('Rate')\n",
    "ax2.set_ylabel('Reflection')\n",
    "\n",
    "# Set ticks and hline\n",
    "ax.set_xticks(x)\n",
    "ax.set_xticklabels(x)\n",
    "ax.grid(axis='y', linestyle='--')\n",
    "\n",
    "# Add a legend for both the line charts and the bar chart\n",
    "lines, labels = ax.get_legend_handles_labels()\n",
    "bars, bar_labels = ax2.get_legend_handles_labels()\n",
    "ax.legend(lines + bars, labels + bar_labels)\n",
    "\n",
    "# Show the plot\n",
    "plt.show()"
   ]
  },
  {
   "cell_type": "markdown",
   "id": "876f7670",
   "metadata": {},
   "source": [
    "## 4. Search for a range of dates"
   ]
  },
  {
   "cell_type": "code",
   "execution_count": 16,
   "id": "c08c7e3d",
   "metadata": {},
   "outputs": [],
   "source": [
    "from pandas import to_datetime"
   ]
  },
  {
   "cell_type": "code",
   "execution_count": 17,
   "id": "aa5ef9b3",
   "metadata": {},
   "outputs": [
    {
     "name": "stdout",
     "output_type": "stream",
     "text": [
      "2023-06-23 00:00:00\n"
     ]
    }
   ],
   "source": [
    "# Convert the search date to pandas datetime format\n",
    "search_date_dt = to_datetime(target_date,format=\"%Y%m%d\")\n",
    "print(search_date_dt)"
   ]
  },
  {
   "cell_type": "code",
   "execution_count": 18,
   "id": "c3878b64",
   "metadata": {},
   "outputs": [
    {
     "data": {
      "text/plain": [
       "[Timestamp('2023-05-28 00:00:00', freq='W-SUN'),\n",
       " Timestamp('2023-06-04 00:00:00', freq='W-SUN'),\n",
       " Timestamp('2023-06-11 00:00:00', freq='W-SUN'),\n",
       " Timestamp('2023-06-18 00:00:00', freq='W-SUN'),\n",
       " Timestamp('2023-06-23 00:00:00')]"
      ]
     },
     "execution_count": 18,
     "metadata": {},
     "output_type": "execute_result"
    }
   ],
   "source": [
    "# Define the date range\n",
    "start_date = search_date_dt - pd.DateOffset(weeks=4)\n",
    "date_range = pd.date_range(start=start_date, end=search_date_dt, freq='W', inclusive='both').tolist()\n",
    "date_range.append(search_date_dt)\n",
    "\n",
    "date_range"
   ]
  },
  {
   "cell_type": "code",
   "execution_count": 19,
   "id": "ef0244bd",
   "metadata": {
    "scrolled": true
   },
   "outputs": [
    {
     "data": {
      "text/plain": [
       "['20230528', '20230604', '20230611', '20230618', '20230623']"
      ]
     },
     "execution_count": 19,
     "metadata": {},
     "output_type": "execute_result"
    }
   ],
   "source": [
    "# Iterate over each target date\n",
    "target_dates = []\n",
    "for date in date_range:\n",
    "    target_date = date.strftime('%Y%m%d')\n",
    "    target_dates.append(target_date)\n",
    "\n",
    "target_dates"
   ]
  },
  {
   "cell_type": "code",
   "execution_count": 20,
   "id": "59979363",
   "metadata": {},
   "outputs": [],
   "source": [
    "# Run the code through target dates \n",
    "result = asyncio.run(_crawl_IRS_tables(target_dates))\n",
    "\n",
    "# Calculate market reflection for each crawled data\n",
    "dfs=[]\n",
    "for i in range(len(result)):\n",
    "    new_df = _convert_crawled_to_df(result[i], cd_rate)\n",
    "    new_df = calculate_market_reflection(new_df, base_rate, rate_change_expectation)\n",
    "    new_df = pd.DataFrame(new_df)\n",
    "    dfs.append(new_df)"
   ]
  },
  {
   "cell_type": "code",
   "execution_count": 21,
   "id": "4ec5de04",
   "metadata": {},
   "outputs": [
    {
     "data": {
      "text/html": [
       "<div>\n",
       "<style scoped>\n",
       "    .dataframe tbody tr th:only-of-type {\n",
       "        vertical-align: middle;\n",
       "    }\n",
       "\n",
       "    .dataframe tbody tr th {\n",
       "        vertical-align: top;\n",
       "    }\n",
       "\n",
       "    .dataframe thead th {\n",
       "        text-align: right;\n",
       "    }\n",
       "</style>\n",
       "<table border=\"1\" class=\"dataframe\">\n",
       "  <thead>\n",
       "    <tr style=\"text-align: right;\">\n",
       "      <th></th>\n",
       "      <th>20230528</th>\n",
       "      <th>20230604</th>\n",
       "      <th>20230611</th>\n",
       "      <th>20230618</th>\n",
       "      <th>20230623</th>\n",
       "    </tr>\n",
       "    <tr>\n",
       "      <th>tenor</th>\n",
       "      <th></th>\n",
       "      <th></th>\n",
       "      <th></th>\n",
       "      <th></th>\n",
       "      <th></th>\n",
       "    </tr>\n",
       "  </thead>\n",
       "  <tbody>\n",
       "    <tr>\n",
       "      <th>0.25</th>\n",
       "      <td>0.348279</td>\n",
       "      <td>0.089396</td>\n",
       "      <td>0.228785</td>\n",
       "      <td>0.368196</td>\n",
       "      <td>0.368196</td>\n",
       "    </tr>\n",
       "    <tr>\n",
       "      <th>0.50</th>\n",
       "      <td>0.108159</td>\n",
       "      <td>-0.080618</td>\n",
       "      <td>0.048723</td>\n",
       "      <td>0.328109</td>\n",
       "      <td>0.298097</td>\n",
       "    </tr>\n",
       "    <tr>\n",
       "      <th>0.75</th>\n",
       "      <td>-0.715041</td>\n",
       "      <td>-0.943800</td>\n",
       "      <td>-0.654079</td>\n",
       "      <td>-0.113953</td>\n",
       "      <td>-0.003338</td>\n",
       "    </tr>\n",
       "    <tr>\n",
       "      <th>1.00</th>\n",
       "      <td>-0.861302</td>\n",
       "      <td>-1.331720</td>\n",
       "      <td>-0.991759</td>\n",
       "      <td>-0.552677</td>\n",
       "      <td>-0.432072</td>\n",
       "    </tr>\n",
       "    <tr>\n",
       "      <th>1.25</th>\n",
       "      <td>-1.175097</td>\n",
       "      <td>-1.766560</td>\n",
       "      <td>-1.345937</td>\n",
       "      <td>-0.826112</td>\n",
       "      <td>-0.665066</td>\n",
       "    </tr>\n",
       "    <tr>\n",
       "      <th>1.50</th>\n",
       "      <td>-1.419017</td>\n",
       "      <td>-2.202885</td>\n",
       "      <td>-1.772460</td>\n",
       "      <td>-1.171772</td>\n",
       "      <td>-1.041333</td>\n",
       "    </tr>\n",
       "    <tr>\n",
       "      <th>1.75</th>\n",
       "      <td>-1.714839</td>\n",
       "      <td>-2.640582</td>\n",
       "      <td>-2.149487</td>\n",
       "      <td>-1.467715</td>\n",
       "      <td>-1.316959</td>\n",
       "    </tr>\n",
       "  </tbody>\n",
       "</table>\n",
       "</div>"
      ],
      "text/plain": [
       "       20230528  20230604  20230611  20230618  20230623\n",
       "tenor                                                  \n",
       "0.25   0.348279  0.089396  0.228785  0.368196  0.368196\n",
       "0.50   0.108159 -0.080618  0.048723  0.328109  0.298097\n",
       "0.75  -0.715041 -0.943800 -0.654079 -0.113953 -0.003338\n",
       "1.00  -0.861302 -1.331720 -0.991759 -0.552677 -0.432072\n",
       "1.25  -1.175097 -1.766560 -1.345937 -0.826112 -0.665066\n",
       "1.50  -1.419017 -2.202885 -1.772460 -1.171772 -1.041333\n",
       "1.75  -1.714839 -2.640582 -2.149487 -1.467715 -1.316959"
      ]
     },
     "execution_count": 21,
     "metadata": {},
     "output_type": "execute_result"
    }
   ],
   "source": [
    "# Extract reflection columns \n",
    "reflection_table = pd.DataFrame()\n",
    "for i in range(len(dfs)):\n",
    "    reflection_table[target_dates[i]] = dfs[i]['reflection']\n",
    "reflection_table = reflection_table.dropna()\n",
    "\n",
    "reflection_table"
   ]
  }
 ],
 "metadata": {
  "kernelspec": {
   "display_name": "Python 3 (ipykernel)",
   "language": "python",
   "name": "python3"
  },
  "language_info": {
   "codemirror_mode": {
    "name": "ipython",
    "version": 3
   },
   "file_extension": ".py",
   "mimetype": "text/x-python",
   "name": "python",
   "nbconvert_exporter": "python",
   "pygments_lexer": "ipython3",
   "version": "3.9.13"
  }
 },
 "nbformat": 4,
 "nbformat_minor": 5
}
